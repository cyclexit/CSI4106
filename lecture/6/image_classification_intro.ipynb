{
 "cells": [
  {
   "cell_type": "code",
   "execution_count": 8,
   "metadata": {},
   "outputs": [
    {
     "data": {
      "text/plain": [
       "Reusing TensorBoard on port 6006 (pid 28900), started 21:50:39 ago. (Use '!kill 28900' to kill it.)"
      ]
     },
     "metadata": {},
     "output_type": "display_data"
    },
    {
     "data": {
      "text/html": [
       "\n",
       "      <iframe id=\"tensorboard-frame-1c80317fa3b1799d\" width=\"100%\" height=\"800\" frameborder=\"0\">\n",
       "      </iframe>\n",
       "      <script>\n",
       "        (function() {\n",
       "          const frame = document.getElementById(\"tensorboard-frame-1c80317fa3b1799d\");\n",
       "          const url = new URL(\"http://localhost\");\n",
       "          const port = 6006;\n",
       "          if (port) {\n",
       "            url.port = port;\n",
       "          }\n",
       "          frame.src = url;\n",
       "        })();\n",
       "      </script>\n",
       "    "
      ],
      "text/plain": [
       "<IPython.core.display.HTML object>"
      ]
     },
     "metadata": {},
     "output_type": "display_data"
    }
   ],
   "source": [
    "import numpy as np\n",
    "import tensorflow as tf\n",
    "import random as python_random\n",
    "\n",
    "from tensorflow import keras\n",
    "from tensorflow.keras import datasets\n",
    "from tensorflow.keras import layers\n",
    "\n",
    "import matplotlib.pyplot as plt\n",
    "from collections import Counter\n",
    "from sklearn.metrics import classification_report\n",
    "import datetime\n",
    "import os\n",
    "# for reproducibility purposes\n",
    "np.random.seed(42)\n",
    "python_random.seed(42)\n",
    "tf.random.set_seed(42)\n",
    "\n",
    "# load tensorboard\n",
    "%reload_ext tensorboard\n",
    "%tensorboard --logdir logs"
   ]
  },
  {
   "cell_type": "code",
   "execution_count": 9,
   "metadata": {},
   "outputs": [],
   "source": [
    "def make_directories():\n",
    "    d = datetime.datetime.today()\n",
    "    timestamp = d.strftime('%Y%m%d_%H%M%S')\n",
    "    # folder to store the tensorboard logs\n",
    "    tensorlog_folder = os.path.join(os.path.curdir, 'logs', timestamp)\n",
    "    # folder to store the trained models\n",
    "    checkpoint_folder = os.path.join(os.path.curdir, 'models', timestamp)\n",
    "\n",
    "    os.mkdir(tensorlog_folder)\n",
    "    os.mkdir(checkpoint_folder)\n",
    "\n",
    "    return checkpoint_folder, tensorlog_folder"
   ]
  },
  {
   "cell_type": "code",
   "execution_count": 10,
   "metadata": {},
   "outputs": [
    {
     "name": "stdout",
     "output_type": "stream",
     "text": [
      "(60000, 28, 28)\n",
      "(10000, 28, 28)\n"
     ]
    }
   ],
   "source": [
    "# 0: T-shirt/top, 1: Trouser, 2: Pullover, 3: Dress, 4: Coat, 5: Sandal, 6: Shirt, 7: Sneaker, 8: Bag, 9: Ankle boot\n",
    "data = datasets.fashion_mnist\n",
    "(train_imgs, train_lbls), (test_imgs, test_lbls) = data.load_data()\n",
    "\n",
    "print(train_imgs.shape)\n",
    "print(test_imgs.shape)"
   ]
  },
  {
   "cell_type": "code",
   "execution_count": 11,
   "metadata": {},
   "outputs": [
    {
     "name": "stdout",
     "output_type": "stream",
     "text": [
      "Counter({9: 6000, 0: 6000, 3: 6000, 2: 6000, 7: 6000, 5: 6000, 1: 6000, 6: 6000, 4: 6000, 8: 6000})\n",
      "Counter({9: 1000, 2: 1000, 1: 1000, 6: 1000, 4: 1000, 5: 1000, 7: 1000, 3: 1000, 8: 1000, 0: 1000})\n"
     ]
    }
   ],
   "source": [
    "# normalize the image data\n",
    "train_imgs = train_imgs.astype('float32') / 255\n",
    "test_imgs = test_imgs.astype('float32') / 255\n",
    "\n",
    "print(Counter(train_lbls))\n",
    "print(Counter(test_lbls))"
   ]
  },
  {
   "cell_type": "code",
   "execution_count": 12,
   "metadata": {},
   "outputs": [
    {
     "name": "stdout",
     "output_type": "stream",
     "text": [
      "5\n"
     ]
    },
    {
     "data": {
      "image/png": "[encoded data removed]",
      "text/plain": [
       "<Figure size 432x288 with 1 Axes>"
      ]
     },
     "metadata": {
      "needs_background": "light"
     },
     "output_type": "display_data"
    }
   ],
   "source": [
    "# print an image\n",
    "print(train_lbls[9])\n",
    "image = train_imgs[9]\n",
    "# print(type(image), image.shape, image)\n",
    "plt.imshow(image, cmap=plt.cm.binary)\n",
    "plt.show()"
   ]
  },
  {
   "cell_type": "code",
   "execution_count": 13,
   "metadata": {},
   "outputs": [
    {
     "name": "stdout",
     "output_type": "stream",
     "text": [
      "Model: \"sequential\"\n",
      "_________________________________________________________________\n",
      "Layer (type)                 Output Shape              Param #   \n",
      "=================================================================\n",
      "flatten (Flatten)            (None, 784)               0         \n",
      "_________________________________________________________________\n",
      "dense_1 (Dense)              (None, 128)               100480    \n",
      "_________________________________________________________________\n",
      "dense_out (Dense)            (None, 10)                1290      \n",
      "=================================================================\n",
      "Total params: 101,770\n",
      "Trainable params: 101,770\n",
      "Non-trainable params: 0\n",
      "_________________________________________________________________\n",
      "None\n",
      "Epoch 1/10\n",
      "657/657 [==============================] - 4s 4ms/step - loss: 0.5740 - accuracy: 0.7994 - val_loss: 0.5337 - val_accuracy: 0.8122\n",
      "INFO:tensorflow:Assets written to: .\\models\\20220331_184156\\assets\n",
      "Epoch 2/10\n",
      "657/657 [==============================] - 2s 4ms/step - loss: 0.4139 - accuracy: 0.8517 - val_loss: 0.3927 - val_accuracy: 0.8573\n",
      "INFO:tensorflow:Assets written to: .\\models\\20220331_184156\\assets\n",
      "Epoch 3/10\n",
      "657/657 [==============================] - 2s 3ms/step - loss: 0.3676 - accuracy: 0.8661 - val_loss: 0.4549 - val_accuracy: 0.8362\n",
      "Epoch 4/10\n",
      "657/657 [==============================] - 2s 3ms/step - loss: 0.3381 - accuracy: 0.8763 - val_loss: 0.4159 - val_accuracy: 0.8551\n",
      "\n",
      "Epoch 00004: ReduceLROnPlateau reducing learning rate to 0.00010000000474974513.\n",
      "Epoch 5/10\n",
      "657/657 [==============================] - 2s 3ms/step - loss: 0.2826 - accuracy: 0.8981 - val_loss: 0.3271 - val_accuracy: 0.8849\n",
      "INFO:tensorflow:Assets written to: .\\models\\20220331_184156\\assets\n",
      "Epoch 6/10\n",
      "657/657 [==============================] - 2s 3ms/step - loss: 0.2738 - accuracy: 0.9018 - val_loss: 0.3240 - val_accuracy: 0.8857\n",
      "INFO:tensorflow:Assets written to: .\\models\\20220331_184156\\assets\n",
      "Epoch 7/10\n",
      "657/657 [==============================] - 2s 3ms/step - loss: 0.2703 - accuracy: 0.9020 - val_loss: 0.3214 - val_accuracy: 0.8862\n",
      "INFO:tensorflow:Assets written to: .\\models\\20220331_184156\\assets\n",
      "Epoch 8/10\n",
      "657/657 [==============================] - 2s 3ms/step - loss: 0.2673 - accuracy: 0.9036 - val_loss: 0.3220 - val_accuracy: 0.8848\n",
      "Epoch 9/10\n",
      "657/657 [==============================] - 2s 3ms/step - loss: 0.2642 - accuracy: 0.9040 - val_loss: 0.3180 - val_accuracy: 0.8872\n",
      "INFO:tensorflow:Assets written to: .\\models\\20220331_184156\\assets\n",
      "Epoch 10/10\n",
      "657/657 [==============================] - 2s 3ms/step - loss: 0.2617 - accuracy: 0.9054 - val_loss: 0.3192 - val_accuracy: 0.8878\n"
     ]
    },
    {
     "data": {
      "text/plain": [
       "<tensorflow.python.keras.callbacks.History at 0x2983b439fa0>"
      ]
     },
     "execution_count": 13,
     "metadata": {},
     "output_type": "execute_result"
    }
   ],
   "source": [
    "# using the keras sequential model\n",
    "model = keras.Sequential([\n",
    "    layers.Flatten(input_shape=(28, 28)),\n",
    "    layers.Dense(128, activation='relu', name='dense_1'),\n",
    "    layers.Dense(10, activation='softmax', name='dense_out')\n",
    "])\n",
    "\n",
    "# print the model summary\n",
    "print(model.summary())\n",
    "\n",
    "# compile the model\n",
    "optimizer = keras.optimizers.RMSprop(learning_rate=0.001)\n",
    "model.compile(optimizer='rmsprop', loss='sparse_categorical_crossentropy', metrics=['accuracy'])\n",
    "\n",
    "# get the required directories\n",
    "check_dir, tboard_dir = make_directories()\n",
    "\n",
    "# using the callbacks\n",
    "early_stop = keras.callbacks.EarlyStopping(\n",
    "    monitor='val_loss',\n",
    "    patience=3,\n",
    "    restore_best_weights=True\n",
    ")\n",
    "\n",
    "checkpoints = keras.callbacks.ModelCheckpoint(\n",
    "    filepath=check_dir,\n",
    "    monitor='val_loss',\n",
    "    save_best_only=True,\n",
    "    save_weights_only=False\n",
    ")\n",
    "\n",
    "tensorboard = keras.callbacks.TensorBoard(\n",
    "    log_dir=tboard_dir\n",
    ")\n",
    "\n",
    "reduce_lr = keras.callbacks.ReduceLROnPlateau(\n",
    "    monitor='val_loss',\n",
    "    factor=0.1,\n",
    "    patience=2,\n",
    "    min_lr=1e-5,\n",
    "    verbose=1\n",
    ")\n",
    "\n",
    "# fit the model with training data with a validation split\n",
    "# by default .fit will shuffle the data\n",
    "model.fit(\n",
    "    train_imgs, \n",
    "    train_lbls, \n",
    "    validation_split=0.3, \n",
    "    epochs=10, \n",
    "    batch_size=64, \n",
    "    callbacks=[reduce_lr, early_stop, checkpoints, tensorboard]\n",
    ")\n"
   ]
  },
  {
   "cell_type": "code",
   "execution_count": 14,
   "metadata": {},
   "outputs": [
    {
     "name": "stdout",
     "output_type": "stream",
     "text": [
      "313/313 [==============================] - 0s 1ms/step - loss: 0.3473 - accuracy: 0.8796\n",
      "[0.3473190367221832, 0.8795999884605408]\n",
      "              precision    recall  f1-score   support\n",
      "\n",
      "           0       0.84      0.84      0.84      1000\n",
      "           1       0.99      0.97      0.98      1000\n",
      "           2       0.77      0.83      0.79      1000\n",
      "           3       0.86      0.91      0.88      1000\n",
      "           4       0.80      0.79      0.79      1000\n",
      "           5       0.97      0.96      0.96      1000\n",
      "           6       0.72      0.64      0.68      1000\n",
      "           7       0.92      0.96      0.94      1000\n",
      "           8       0.96      0.97      0.97      1000\n",
      "           9       0.97      0.95      0.96      1000\n",
      "\n",
      "    accuracy                           0.88     10000\n",
      "   macro avg       0.88      0.88      0.88     10000\n",
      "weighted avg       0.88      0.88      0.88     10000\n",
      "\n"
     ]
    }
   ],
   "source": [
    "# evaluate the model on the test data\n",
    "test_evals = model.evaluate(test_imgs, test_lbls)\n",
    "print(test_evals)\n",
    "# predict on the test data\n",
    "predictions = model.predict(test_imgs)\n",
    "predicted_lbls = np.argmax(predictions, axis=1)\n",
    "cr = classification_report(test_lbls, predicted_lbls)\n",
    "print(cr)"
   ]
  },
  {
   "cell_type": "code",
   "execution_count": 15,
   "metadata": {},
   "outputs": [
    {
     "name": "stdout",
     "output_type": "stream",
     "text": [
      "Model: \"model\"\n",
      "_________________________________________________________________\n",
      "Layer (type)                 Output Shape              Param #   \n",
      "=================================================================\n",
      "input_1 (InputLayer)         [(None, 28, 28)]          0         \n",
      "_________________________________________________________________\n",
      "flatten_1 (Flatten)          (None, 784)               0         \n",
      "_________________________________________________________________\n",
      "dense_1 (Dense)              (None, 128)               100480    \n",
      "_________________________________________________________________\n",
      "dense_out (Dense)            (None, 10)                1290      \n",
      "=================================================================\n",
      "Total params: 101,770\n",
      "Trainable params: 101,770\n",
      "Non-trainable params: 0\n",
      "_________________________________________________________________\n",
      "None\n",
      "Epoch 1/10\n",
      "657/657 [==============================] - 3s 4ms/step - loss: 0.5631 - accuracy: 0.8013 - val_loss: 0.5031 - val_accuracy: 0.8259\n",
      "INFO:tensorflow:Assets written to: .\\models\\20220331_184223\\assets\n",
      "Epoch 2/10\n",
      "657/657 [==============================] - 2s 3ms/step - loss: 0.4061 - accuracy: 0.8541 - val_loss: 0.3931 - val_accuracy: 0.8572\n",
      "INFO:tensorflow:Assets written to: .\\models\\20220331_184223\\assets\n",
      "Epoch 3/10\n",
      "657/657 [==============================] - 2s 3ms/step - loss: 0.3612 - accuracy: 0.8687 - val_loss: 0.4634 - val_accuracy: 0.8312\n",
      "Epoch 4/10\n",
      "657/657 [==============================] - 2s 3ms/step - loss: 0.3337 - accuracy: 0.8777 - val_loss: 0.4213 - val_accuracy: 0.8549\n",
      "\n",
      "Epoch 00004: ReduceLROnPlateau reducing learning rate to 0.00010000000474974513.\n",
      "Epoch 5/10\n",
      "657/657 [==============================] - 2s 3ms/step - loss: 0.2793 - accuracy: 0.8987 - val_loss: 0.3247 - val_accuracy: 0.8844\n",
      "INFO:tensorflow:Assets written to: .\\models\\20220331_184223\\assets\n",
      "Epoch 6/10\n",
      "657/657 [==============================] - 2s 3ms/step - loss: 0.2709 - accuracy: 0.9016 - val_loss: 0.3226 - val_accuracy: 0.8851\n",
      "INFO:tensorflow:Assets written to: .\\models\\20220331_184223\\assets\n",
      "Epoch 7/10\n",
      "657/657 [==============================] - 2s 3ms/step - loss: 0.2676 - accuracy: 0.9028 - val_loss: 0.3190 - val_accuracy: 0.8853\n",
      "INFO:tensorflow:Assets written to: .\\models\\20220331_184223\\assets\n",
      "Epoch 8/10\n",
      "657/657 [==============================] - 2s 3ms/step - loss: 0.2648 - accuracy: 0.9036 - val_loss: 0.3206 - val_accuracy: 0.8856\n",
      "Epoch 9/10\n",
      "657/657 [==============================] - 2s 3ms/step - loss: 0.2616 - accuracy: 0.9048 - val_loss: 0.3177 - val_accuracy: 0.8880\n",
      "INFO:tensorflow:Assets written to: .\\models\\20220331_184223\\assets\n",
      "Epoch 10/10\n",
      "657/657 [==============================] - 2s 3ms/step - loss: 0.2594 - accuracy: 0.9058 - val_loss: 0.3186 - val_accuracy: 0.8863\n"
     ]
    },
    {
     "data": {
      "text/plain": [
       "<tensorflow.python.keras.callbacks.History at 0x2985a3b92b0>"
      ]
     },
     "execution_count": 15,
     "metadata": {},
     "output_type": "execute_result"
    }
   ],
   "source": [
    "# limitations with the sequential model\n",
    "# single input and output\n",
    "# sequence of layers\n",
    "\n",
    "# using the functional API\n",
    "# can be used with multiple inputs and outputs\n",
    "\n",
    "# using the keras functional API\n",
    "inputs = keras.Input(shape=(28,28))\n",
    "x = layers.Flatten()(inputs)\n",
    "x = layers.Dense(128, activation='relu', name='dense_1')(x)\n",
    "\n",
    "outputs = layers.Dense(10, activation='softmax', name='dense_out')(x)\n",
    "\n",
    "# creating the Model by grouping the layers\n",
    "model = keras.Model(inputs=inputs, outputs=outputs)\n",
    "\n",
    "# print the model summary\n",
    "print(model.summary())\n",
    "\n",
    "# compile the model\n",
    "optimizer = keras.optimizers.RMSprop(learning_rate=0.001)\n",
    "model.compile(optimizer='rmsprop', loss='sparse_categorical_crossentropy', metrics=['accuracy'])\n",
    "\n",
    "# get the required directories\n",
    "check_dir, tboard_dir = make_directories()\n",
    "\n",
    "# using the callbacks\n",
    "early_stop = keras.callbacks.EarlyStopping(\n",
    "    monitor='val_loss',\n",
    "    patience=3,\n",
    "    restore_best_weights=True\n",
    ")\n",
    "\n",
    "checkpoints = keras.callbacks.ModelCheckpoint(\n",
    "    filepath=check_dir,\n",
    "    monitor='val_loss',\n",
    "    save_best_only=True,\n",
    "    save_weights_only=False\n",
    ")\n",
    "\n",
    "tensorboard = keras.callbacks.TensorBoard(\n",
    "    log_dir=tboard_dir\n",
    ")\n",
    "\n",
    "reduce_lr = keras.callbacks.ReduceLROnPlateau(\n",
    "    monitor='val_loss',\n",
    "    factor=0.1,\n",
    "    patience=2,\n",
    "    min_lr=1e-5,\n",
    "    verbose=1\n",
    ")\n",
    "\n",
    "# fit the model with training data with a validation split\n",
    "# by default .fit will shuffle the data\n",
    "model.fit(\n",
    "    train_imgs, \n",
    "    train_lbls, \n",
    "    validation_split=0.3, \n",
    "    epochs=10, \n",
    "    batch_size=64, \n",
    "    callbacks=[reduce_lr, early_stop, checkpoints, tensorboard]\n",
    ")\n"
   ]
  },
  {
   "cell_type": "code",
   "execution_count": 16,
   "metadata": {},
   "outputs": [
    {
     "name": "stdout",
     "output_type": "stream",
     "text": [
      "313/313 [==============================] - 0s 1ms/step - loss: 0.3461 - accuracy: 0.8791\n",
      "[0.34606388211250305, 0.8791000247001648]\n",
      "              precision    recall  f1-score   support\n",
      "\n",
      "           0       0.83      0.84      0.83      1000\n",
      "           1       0.99      0.97      0.98      1000\n",
      "           2       0.77      0.82      0.79      1000\n",
      "           3       0.85      0.90      0.88      1000\n",
      "           4       0.79      0.80      0.79      1000\n",
      "           5       0.96      0.96      0.96      1000\n",
      "           6       0.74      0.63      0.68      1000\n",
      "           7       0.92      0.96      0.94      1000\n",
      "           8       0.96      0.98      0.97      1000\n",
      "           9       0.97      0.94      0.96      1000\n",
      "\n",
      "    accuracy                           0.88     10000\n",
      "   macro avg       0.88      0.88      0.88     10000\n",
      "weighted avg       0.88      0.88      0.88     10000\n",
      "\n"
     ]
    }
   ],
   "source": [
    "# evaluate the model on the test data\n",
    "test_evals = model.evaluate(test_imgs, test_lbls)\n",
    "print(test_evals)\n",
    "# predict on the test data\n",
    "predictions = model.predict(test_imgs)\n",
    "predicted_lbls = np.argmax(predictions, axis=1)\n",
    "cr = classification_report(test_lbls, predicted_lbls)\n",
    "print(cr)"
   ]
  },
  {
   "cell_type": "code",
   "execution_count": 17,
   "metadata": {},
   "outputs": [],
   "source": [
    "data = datasets.fashion_mnist\n",
    "(train_imgs, train_lbls), (test_imgs, test_lbls) = data.load_data()\n",
    "\n",
    "# reshape and normalize data for CNN\n",
    "train_imgs = train_imgs.reshape((60000, 28, 28, 1)) \n",
    "train_imgs = train_imgs.astype(\"float32\") / 255 \n",
    "test_imgs = test_imgs.reshape((10000, 28, 28, 1)) \n",
    "test_imgs = test_imgs.astype(\"float32\") / 255 "
   ]
  },
  {
   "cell_type": "code",
   "execution_count": 18,
   "metadata": {},
   "outputs": [
    {
     "name": "stdout",
     "output_type": "stream",
     "text": [
      "Model: \"model_1\"\n",
      "_________________________________________________________________\n",
      "Layer (type)                 Output Shape              Param #   \n",
      "=================================================================\n",
      "input_2 (InputLayer)         [(None, 28, 28, 1)]       0         \n",
      "_________________________________________________________________\n",
      "conv2d (Conv2D)              (None, 26, 26, 32)        320       \n",
      "_________________________________________________________________\n",
      "max_pooling2d (MaxPooling2D) (None, 13, 13, 32)        0         \n",
      "_________________________________________________________________\n",
      "conv2d_1 (Conv2D)            (None, 11, 11, 64)        18496     \n",
      "_________________________________________________________________\n",
      "max_pooling2d_1 (MaxPooling2 (None, 5, 5, 64)          0         \n",
      "_________________________________________________________________\n",
      "conv2d_2 (Conv2D)            (None, 3, 3, 128)         73856     \n",
      "_________________________________________________________________\n",
      "flatten_2 (Flatten)          (None, 1152)              0         \n",
      "_________________________________________________________________\n",
      "dense (Dense)                (None, 10)                11530     \n",
      "=================================================================\n",
      "Total params: 104,202\n",
      "Trainable params: 104,202\n",
      "Non-trainable params: 0\n",
      "_________________________________________________________________\n",
      "None\n",
      "Epoch 1/10\n",
      "657/657 [==============================] - 10s 7ms/step - loss: 0.5644 - accuracy: 0.7923 - val_loss: 0.4432 - val_accuracy: 0.8314\n",
      "INFO:tensorflow:Assets written to: .\\models\\20220331_184249\\assets\n",
      "Epoch 2/10\n",
      "657/657 [==============================] - 4s 6ms/step - loss: 0.3547 - accuracy: 0.8709 - val_loss: 0.3415 - val_accuracy: 0.8744\n",
      "INFO:tensorflow:Assets written to: .\\models\\20220331_184249\\assets\n",
      "Epoch 3/10\n",
      "657/657 [==============================] - 4s 6ms/step - loss: 0.3017 - accuracy: 0.8900 - val_loss: 0.3651 - val_accuracy: 0.8659\n",
      "Epoch 4/10\n",
      "657/657 [==============================] - 4s 6ms/step - loss: 0.2704 - accuracy: 0.9009 - val_loss: 0.3006 - val_accuracy: 0.8919\n",
      "INFO:tensorflow:Assets written to: .\\models\\20220331_184249\\assets\n",
      "Epoch 5/10\n",
      "657/657 [==============================] - 4s 6ms/step - loss: 0.2449 - accuracy: 0.9098 - val_loss: 0.2947 - val_accuracy: 0.8934\n",
      "INFO:tensorflow:Assets written to: .\\models\\20220331_184249\\assets\n",
      "Epoch 6/10\n",
      "657/657 [==============================] - 4s 5ms/step - loss: 0.2229 - accuracy: 0.9185 - val_loss: 0.3147 - val_accuracy: 0.8845\n",
      "Epoch 7/10\n",
      "657/657 [==============================] - 4s 5ms/step - loss: 0.2066 - accuracy: 0.9236 - val_loss: 0.2672 - val_accuracy: 0.9054\n",
      "INFO:tensorflow:Assets written to: .\\models\\20220331_184249\\assets\n",
      "Epoch 8/10\n",
      "657/657 [==============================] - 4s 6ms/step - loss: 0.1897 - accuracy: 0.9298 - val_loss: 0.2944 - val_accuracy: 0.8942\n",
      "Epoch 9/10\n",
      "657/657 [==============================] - 3s 5ms/step - loss: 0.1752 - accuracy: 0.9349 - val_loss: 0.2921 - val_accuracy: 0.9024\n",
      "\n",
      "Epoch 00009: ReduceLROnPlateau reducing learning rate to 0.00010000000474974513.\n",
      "Epoch 10/10\n",
      "657/657 [==============================] - 4s 5ms/step - loss: 0.1273 - accuracy: 0.9555 - val_loss: 0.2493 - val_accuracy: 0.9177\n",
      "INFO:tensorflow:Assets written to: .\\models\\20220331_184249\\assets\n"
     ]
    },
    {
     "data": {
      "text/plain": [
       "<tensorflow.python.keras.callbacks.History at 0x295ab70b130>"
      ]
     },
     "execution_count": 18,
     "metadata": {},
     "output_type": "execute_result"
    }
   ],
   "source": [
    "inputs = keras.Input(shape=(28, 28, 1)) \n",
    "x = layers.Conv2D(filters=32, kernel_size=3, activation=\"relu\")(inputs) \n",
    "x = layers.MaxPooling2D(pool_size=2)(x) \n",
    "x = layers.Conv2D(filters=64, kernel_size=3, activation=\"relu\")(x) \n",
    "x = layers.MaxPooling2D(pool_size=2)(x) \n",
    "x = layers.Conv2D(filters=128, kernel_size=3, activation=\"relu\")(x) \n",
    "x = layers.Flatten()(x)\n",
    "\n",
    "outputs = layers.Dense(10, activation=\"softmax\")(x) \n",
    "\n",
    "model = keras.Model(inputs=inputs, outputs=outputs)\n",
    "\n",
    "print(model.summary())\n",
    "\n",
    "# compile the model\n",
    "optimizer = keras.optimizers.RMSprop(learning_rate=0.001)\n",
    "model.compile(optimizer='rmsprop', loss='sparse_categorical_crossentropy', metrics=['accuracy'])\n",
    "\n",
    "# get the required directories\n",
    "check_dir, tboard_dir = make_directories()\n",
    "\n",
    "# using the callbacks\n",
    "early_stop = keras.callbacks.EarlyStopping(\n",
    "    monitor='val_loss',\n",
    "    patience=3,\n",
    "    restore_best_weights=True\n",
    ")\n",
    "\n",
    "checkpoints = keras.callbacks.ModelCheckpoint(\n",
    "    filepath=check_dir,\n",
    "    monitor='val_loss',\n",
    "    save_best_only=True,\n",
    "    save_weights_only=False\n",
    ")\n",
    "\n",
    "tensorboard = keras.callbacks.TensorBoard(\n",
    "    log_dir=tboard_dir\n",
    ")\n",
    "\n",
    "reduce_lr = keras.callbacks.ReduceLROnPlateau(\n",
    "    monitor='val_loss',\n",
    "    factor=0.1,\n",
    "    patience=2,\n",
    "    min_lr=1e-5,\n",
    "    verbose=1\n",
    ")\n",
    "\n",
    "# fit the model with training data with a validation split\n",
    "# by default .fit will shuffle the data\n",
    "model.fit(\n",
    "    train_imgs, \n",
    "    train_lbls, \n",
    "    validation_split=0.3, \n",
    "    epochs=10, \n",
    "    batch_size=64, \n",
    "    callbacks=[reduce_lr, early_stop, checkpoints, tensorboard]\n",
    ")"
   ]
  },
  {
   "cell_type": "code",
   "execution_count": 19,
   "metadata": {},
   "outputs": [
    {
     "name": "stdout",
     "output_type": "stream",
     "text": [
      "313/313 [==============================] - 1s 2ms/step - loss: 0.2632 - accuracy: 0.9127\n",
      "[0.26317542791366577, 0.9126999974250793]\n",
      "              precision    recall  f1-score   support\n",
      "\n",
      "           0       0.86      0.86      0.86      1000\n",
      "           1       0.99      0.98      0.99      1000\n",
      "           2       0.85      0.87      0.86      1000\n",
      "           3       0.92      0.92      0.92      1000\n",
      "           4       0.86      0.87      0.86      1000\n",
      "           5       0.99      0.98      0.98      1000\n",
      "           6       0.75      0.73      0.74      1000\n",
      "           7       0.95      0.98      0.96      1000\n",
      "           8       0.98      0.97      0.98      1000\n",
      "           9       0.98      0.96      0.97      1000\n",
      "\n",
      "    accuracy                           0.91     10000\n",
      "   macro avg       0.91      0.91      0.91     10000\n",
      "weighted avg       0.91      0.91      0.91     10000\n",
      "\n"
     ]
    }
   ],
   "source": [
    "# evaluate the model on the test data\n",
    "test_evals = model.evaluate(test_imgs, test_lbls)\n",
    "print(test_evals)\n",
    "# predict on the test data\n",
    "predictions = model.predict(test_imgs)\n",
    "predicted_lbls = np.argmax(predictions, axis=1)\n",
    "cr = classification_report(test_lbls, predicted_lbls)\n",
    "print(cr)"
   ]
  },
  {
   "cell_type": "markdown",
   "metadata": {},
   "source": [
    "* Use \"image_dataset_from_directory\" to read, shuffle, resize, batch, etc.. to load images\n",
    "* In case the model overfits, use different data augmentation strategies such as: RandomFlip, RandomRotation, RandomZoom\n",
    "* In case your dataset is small, use a pretrained model (i.e., if the model is well generalized)\n",
    "    * e.g., ImageNet, ResNet"
   ]
  }
 ],
 "metadata": {
  "interpreter": {
   "hash": "fcacb1169d0317e97b762e0c1a317633c556cb59cb1017287d7e24b96b766e04"
  },
  "kernelspec": {
   "display_name": "Python 3.8.12 ('csi4106')",
   "language": "python",
   "name": "python3"
  },
  "language_info": {
   "codemirror_mode": {
    "name": "ipython",
    "version": 3
   },
   "file_extension": ".py",
   "mimetype": "text/x-python",
   "name": "python",
   "nbconvert_exporter": "python",
   "pygments_lexer": "ipython3",
   "version": "3.9.7"
  },
  "orig_nbformat": 4
 },
 "nbformat": 4,
 "nbformat_minor": 2
}
