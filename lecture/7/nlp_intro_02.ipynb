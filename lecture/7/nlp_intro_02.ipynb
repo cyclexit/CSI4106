{
 "cells": [
  {
   "cell_type": "code",
   "execution_count": null,
   "metadata": {},
   "outputs": [],
   "source": [
    "import pandas as pd\n",
    "import numpy as np\n",
    "from collections import Counter\n",
    "from multiprocessing import cpu_count\n",
    "from joblib import Parallel, delayed\n",
    "from sklearn.feature_extraction.text import CountVectorizer, TfidfVectorizer\n",
    "from sklearn.preprocessing import LabelEncoder\n",
    "from sklearn.model_selection import StratifiedShuffleSplit\n",
    "from sklearn.model_selection import GridSearchCV, StratifiedKFold\n",
    "from sklearn.pipeline import Pipeline\n",
    "from sklearn.metrics import classification_report, confusion_matrix\n",
    "from sklearn.svm import SVC\n",
    "from sklearn.preprocessing import LabelEncoder\n",
    "from sklearn.dummy import DummyClassifier\n",
    "\n",
    "from tensorflow import keras\n",
    "from tensorflow.keras import layers\n",
    "from tensorflow.keras.preprocessing.text import Tokenizer\n",
    "from tensorflow.keras.preprocessing.sequence import pad_sequences\n",
    "from tensorflow.keras.layers.experimental.preprocessing import TextVectorization\n",
    "\n",
    "import nltk\n",
    "from nltk.sentiment import SentimentAnalyzer, SentimentIntensityAnalyzer\n",
    "\n",
    "from nlpretext import Preprocessor\n",
    "from nlpretext.basic.preprocess import normalize_whitespace, remove_punct, remove_eol_characters, remove_stopwords, \\\n",
    "    lower_text, remove_accents, remove_multiple_spaces_and_strip_text, replace_numbers, replace_emails, replace_urls\n",
    "from nlpretext.social.preprocess import remove_mentions, remove_hashtag, remove_emoji\n",
    "\n",
    "# some useful libraries\n",
    "# spacy\n",
    "\n",
    "np.random.seed(42)"
   ]
  },
  {
   "cell_type": "code",
   "execution_count": null,
   "metadata": {},
   "outputs": [],
   "source": [
    "text = ['today is a cold day', \n",
    "        'yesterday was sunny', \n",
    "        'today is really cold', \n",
    "        'yesterday was sunny but cold']\n",
    "    \n",
    "# data representation\n",
    "tokenizer = Tokenizer(num_words=20, oov_token='<OOV>')\n",
    "tokenizer.fit_on_texts(text)\n",
    "print(tokenizer.word_index)\n",
    "print()\n",
    "\n",
    "# vectorize text\n",
    "txt_vectors = tokenizer.texts_to_sequences(text)\n",
    "print(txt_vectors)\n",
    "print()\n",
    "\n",
    "# making sequences to be of the same length\n",
    "padded_text_vectors = pad_sequences(txt_vectors, padding='post', maxlen=10, truncating='post')\n",
    "print(padded_text_vectors)"
   ]
  },
  {
   "cell_type": "code",
   "execution_count": null,
   "metadata": {},
   "outputs": [],
   "source": [
    "text_vectorization = TextVectorization(output_mode=\"int\", max_tokens=100)\n",
    "\n",
    "text_vectorization.adapt(text)\n",
    "\n",
    "vocab = text_vectorization.get_vocabulary()\n",
    "print(vocab)\n",
    "\n",
    "encoded_sentence = text_vectorization(\"today was a rainy day\")\n",
    "print(encoded_sentence)\n"
   ]
  },
  {
   "cell_type": "code",
   "execution_count": null,
   "metadata": {},
   "outputs": [],
   "source": [
    "# text pre-processing\n",
    "def clean_text(text):\n",
    "    preprocessor = Preprocessor()\n",
    "    preprocessor.pipe(lower_text)\n",
    "    preprocessor.pipe(remove_mentions)\n",
    "    preprocessor.pipe(remove_hashtag)\n",
    "    preprocessor.pipe(remove_emoji)\n",
    "    preprocessor.pipe(remove_eol_characters)\n",
    "    preprocessor.pipe(remove_stopwords, args={'lang': 'en'})\n",
    "    preprocessor.pipe(remove_punct)\n",
    "    preprocessor.pipe(replace_urls)\n",
    "    preprocessor.pipe(replace_emails)\n",
    "    preprocessor.pipe(replace_numbers)\n",
    "    preprocessor.pipe(remove_accents)\n",
    "    preprocessor.pipe(remove_multiple_spaces_and_strip_text)\n",
    "    preprocessor.pipe(normalize_whitespace)\n",
    "\n",
    "    text = preprocessor.run(text)\n",
    "\n",
    "    return text"
   ]
  },
  {
   "cell_type": "code",
   "execution_count": null,
   "metadata": {},
   "outputs": [],
   "source": [
    "# load yelp review data\n",
    "df = pd.read_csv('./data/yelp.csv')\n",
    "print(df.shape)\n",
    "print(df.columns)\n",
    "print(df.head())\n",
    "# review annotations for 5 classes\n",
    "print(df.stars.value_counts())\n",
    "# always explore the dataset\n",
    "print(len(df.text.unique()))\n",
    "print(df.loc[df.text.duplicated(keep=False), ('text', 'stars')])\n",
    "\n",
    "# dataframe without the duplicated values\n",
    "df = df.loc[~df.text.duplicated(keep='first'), ('text', 'stars')].reset_index(drop=True)\n",
    "print(df.shape)\n",
    "print(df.info())"
   ]
  },
  {
   "cell_type": "code",
   "execution_count": null,
   "metadata": {},
   "outputs": [],
   "source": [
    "%%time\n",
    "df['clean_text'] = Parallel(n_jobs=cpu_count()-2, backend='multiprocessing')(delayed(clean_text)(row['text']) for _, row in df.iterrows())\n",
    "\n",
    "df[\"text_len\"] = df.clean_text.apply(lambda x: len(x.split()))\n",
    "print(df.describe())\n",
    "\n",
    "df = df.loc[df.text_len >= 10, :].reset_index(drop=True)\n",
    "print(df.describe())"
   ]
  },
  {
   "cell_type": "code",
   "execution_count": null,
   "metadata": {},
   "outputs": [],
   "source": [
    "# split the data\n",
    "sss = StratifiedShuffleSplit(n_splits=1, test_size=0.3, random_state=42)\n",
    "\n",
    "for train_index, test_index in sss.split(df, df['stars']):\n",
    "    df_train = df.loc[train_index]\n",
    "    df_test = df.loc[test_index]\n",
    "\n",
    "print(df_train.shape)\n",
    "print(df_test.shape)\n",
    "print(df_train.stars.value_counts()/len(df_train))\n",
    "print(df_test.stars.value_counts()/len(df_test))"
   ]
  },
  {
   "cell_type": "code",
   "execution_count": null,
   "metadata": {},
   "outputs": [],
   "source": [
    "train_x = df_train.clean_text.to_numpy()\n",
    "train_y = df_train.stars.to_numpy()\n",
    "test_x = df_test.clean_text.to_numpy()\n",
    "test_y = df_test.stars.to_numpy()\n",
    "\n",
    "print(Counter(train_y))\n",
    "print(Counter(test_y))\n",
    "\n",
    "lbl_encoder = LabelEncoder()\n",
    "train_y = lbl_encoder.fit_transform(train_y)\n",
    "test_y = lbl_encoder.transform(test_y)\n",
    "\n",
    "print(Counter(train_y))\n",
    "print(Counter(test_y))\n"
   ]
  },
  {
   "cell_type": "code",
   "execution_count": null,
   "metadata": {},
   "outputs": [],
   "source": [
    "text_vectorization = TextVectorization(output_mode=\"int\", max_tokens=700)\n",
    "\n",
    "text_vectorization.adapt(train_x)\n",
    "\n",
    "encoded_train_x = text_vectorization(train_x)\n",
    "encoded_test_x = text_vectorization(test_x)\n",
    "print(encoded_train_x.shape)\n",
    "print(encoded_test_x.shape)"
   ]
  },
  {
   "cell_type": "code",
   "execution_count": null,
   "metadata": {},
   "outputs": [],
   "source": [
    "vocab_size = 10000\n",
    "max_length = 450\n",
    "\n",
    "tokenizer = Tokenizer(num_words=vocab_size, oov_token='[UNK]')\n",
    "tokenizer.fit_on_texts(train_x)\n",
    "\n",
    "word_index = tokenizer.word_index\n",
    "\n",
    "# print(word_index)\n",
    "print(len(word_index))\n",
    "\n",
    "# converting train data to a sequence\n",
    "train_x_seq = tokenizer.texts_to_sequences(train_x)\n",
    "# print(train_x_seq)\n",
    "train_x_pad = pad_sequences(train_x_seq, maxlen=max_length, padding=\"post\", truncating=\"post\")\n",
    "\n",
    "# print(len(train_x_seq[0]))\n",
    "# print(len(train_x_pad[0]))\n",
    "\n",
    "# print(train_x_seq[0])\n",
    "# print(train_x_pad[0])\n",
    "\n",
    "# converting test data to a sequence\n",
    "test_x_seq = tokenizer.texts_to_sequences(test_x)\n",
    "# print(train_x_seq)\n",
    "test_x_pad = pad_sequences(test_x_seq, maxlen=max_length, padding=\"post\", truncating=\"post\")\n",
    "\n",
    "\n",
    "print(train_x_pad.shape)\n",
    "print(train_y.shape)"
   ]
  },
  {
   "cell_type": "code",
   "execution_count": null,
   "metadata": {},
   "outputs": [],
   "source": [
    "inputs = keras.Input(shape=(450,))\n",
    "x = layers.Dense(128, activation=\"relu\")(inputs)\n",
    "x = layers.Dropout(0.5)(x)\n",
    "outputs = layers.Dense(5, activation=\"softmax\")(x)\n",
    "\n",
    "model = keras.Model(inputs, outputs)\n",
    "\n",
    "model.compile(optimizer=\"rmsprop\", loss=\"sparse_categorical_crossentropy\", metrics=[\"accuracy\"])\n",
    "\n",
    "model.fit(train_x_pad, train_y, validation_split=0.3, epochs=5, batch_size=64)"
   ]
  },
  {
   "cell_type": "code",
   "execution_count": null,
   "metadata": {},
   "outputs": [],
   "source": [
    "inputs = keras.Input(shape=(max_length,))\n",
    "embed_layer = keras.layers.Embedding(\n",
    "        input_dim=vocab_size,\n",
    "        output_dim=300,\n",
    "        input_length=max_length\n",
    "    )(inputs)\n",
    "x = keras.layers.Conv1D(filters=128, kernel_size=2, activation='relu')(embed_layer)\n",
    "x = keras.layers.GlobalMaxPooling1D()(x)\n",
    "x = keras.layers.Dense(64, activation='relu')(x)\n",
    "\n",
    "outputs = keras.layers.Dense(units=5, activation='softmax')(x)\n",
    "\n",
    "model = keras.Model(inputs, outputs)\n",
    "\n",
    "model.compile(optimizer=\"rmsprop\", loss=\"sparse_categorical_crossentropy\", metrics=\"accuracy\")\n",
    "\n",
    "model.fit(train_x_pad, train_y, validation_split=0.3, epochs=5, batch_size=64)"
   ]
  },
  {
   "cell_type": "code",
   "execution_count": null,
   "metadata": {},
   "outputs": [],
   "source": [
    "inputs = keras.Input(shape=(None,))\n",
    "embed_layer = keras.layers.Embedding(\n",
    "        input_dim=vocab_size,\n",
    "        output_dim=300,\n",
    "        mask_zero=True\n",
    "    )(inputs)\n",
    "x = keras.layers.Bidirectional(keras.layers.LSTM(64))(embed_layer)\n",
    "x = keras.layers.Dense(64, activation='relu')(x)\n",
    "outputs = keras.layers.Dense(units=5, activation='softmax')(x)\n",
    "\n",
    "model = keras.Model(inputs, outputs)\n",
    "\n",
    "model.compile(optimizer=\"rmsprop\", loss=\"sparse_categorical_crossentropy\", metrics=\"accuracy\")\n",
    "\n",
    "model.fit(train_x_pad, train_y, validation_split=0.3, epochs=5, batch_size=64)"
   ]
  },
  {
   "cell_type": "code",
   "execution_count": null,
   "metadata": {},
   "outputs": [],
   "source": [
    "# evaluate the model on the test data\n",
    "test_evals = model.evaluate(test_x_pad, test_y)\n",
    "print(test_evals)\n",
    "# predict on the test data\n",
    "predictions = model.predict(test_x_pad)\n",
    "predicted_lbls = np.argmax(predictions, axis=1)\n",
    "cr = classification_report(test_y, predicted_lbls)\n",
    "print(cr)"
   ]
  }
 ],
 "metadata": {
  "interpreter": {
   "hash": "fcacb1169d0317e97b762e0c1a317633c556cb59cb1017287d7e24b96b766e04"
  },
  "kernelspec": {
   "display_name": "Python 3.8.12 ('csi4106')",
   "language": "python",
   "name": "python3"
  },
  "language_info": {
   "codemirror_mode": {
    "name": "ipython",
    "version": 3
   },
   "file_extension": ".py",
   "mimetype": "text/x-python",
   "name": "python",
   "nbconvert_exporter": "python",
   "pygments_lexer": "ipython3",
   "version": "3.8.12"
  },
  "orig_nbformat": 4
 },
 "nbformat": 4,
 "nbformat_minor": 2
}
