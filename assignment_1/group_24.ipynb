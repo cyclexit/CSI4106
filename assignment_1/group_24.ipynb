{
 "cells": [
  {
   "cell_type": "markdown",
   "metadata": {},
   "source": [
    "# Assignment 1\n",
    "## Group 24\n",
    "|Name|Student No.|Email\n",
    "|----|-----------|-----\n",
    "|Hongyi Lin| 300053082| hlin087@uottawa.ca\n",
    "|Rodger Retanal| 300052309| rreta014@uottawa.ca"
   ]
  },
  {
   "cell_type": "code",
   "execution_count": 1,
   "metadata": {},
   "outputs": [],
   "source": [
    "import pandas as pd\n",
    "import numpy as np\n",
    "from sklearn.model_selection import StratifiedShuffleSplit, GridSearchCV\n",
    "import matplotlib.pyplot as plot\n",
    "# we can use the LabelEncoder to encode the gender feature\n",
    "from sklearn.preprocessing import OrdinalEncoder, OneHotEncoder\n",
    "from sklearn.preprocessing import StandardScaler, MinMaxScaler\n",
    "# importing two different imputation methods that take into consideration all the features when predicting the missing values\n",
    "from sklearn.impute import KNNImputer\n",
    "from sklearn.experimental import enable_iterative_imputer\n",
    "from sklearn.impute import IterativeImputer\n",
    "from sklearn.impute import SimpleImputer\n",
    "\n",
    "from sklearn.pipeline import Pipeline\n",
    "from sklearn.compose import ColumnTransformer\n",
    "\n",
    "from sklearn.svm import SVC\n",
    "from sklearn.ensemble import RandomForestClassifier\n",
    "from sklearn.tree import DecisionTreeClassifier\n",
    "from sklearn.naive_bayes import GaussianNB\n",
    "\n",
    "from sklearn.metrics import classification_report\n",
    "from sklearn.metrics import confusion_matrix\n",
    "\n",
    "from sklearn.dummy import DummyClassifier\n",
    "\n",
    "# oversample the minority class using SMOTE\n",
    "from imblearn.over_sampling import SMOTE\n",
    "from collections import Counter\n",
    "\n",
    "np.random.seed(42)"
   ]
  },
  {
   "cell_type": "markdown",
   "metadata": {},
   "source": [
    "##### Data loading and exploratory analysis (18/100)"
   ]
  },
  {
   "cell_type": "code",
   "execution_count": 10,
   "metadata": {},
   "outputs": [
    {
     "name": "stdout",
     "output_type": "stream",
     "text": [
      "dataframe shape: (615, 14)\n",
      "\n",
      "dataframe columns: Index(['Age', 'Sex', 'ALB', 'ALP', 'ALT', 'AST', 'BIL', 'CHE', 'CHOL', 'CREA',\n",
      "       'GGT', 'PROT', 'split', 'category'],\n",
      "      dtype='object')\n",
      "\n",
      "All data types of dataframe:\n",
      " Age           int64\n",
      "Sex          object\n",
      "ALB         float64\n",
      "ALP         float64\n",
      "ALT         float64\n",
      "AST         float64\n",
      "BIL         float64\n",
      "CHE         float64\n",
      "CHOL        float64\n",
      "CREA        float64\n",
      "GGT         float64\n",
      "PROT        float64\n",
      "split        object\n",
      "category      int64\n",
      "dtype: object\n",
      "\n",
      "Gender distribution:\n",
      " m    377\n",
      "f    238\n",
      "Name: Sex, dtype: int64\n",
      "\n",
      "Class distribution of the entire dataset:\n",
      " 0    540\n",
      "1     75\n",
      "Name: category, dtype: int64\n",
      "\n",
      "Median age of the patients with hepatitis C infection: 49.0\n",
      "\n",
      "Mean age of the patients without hepatitis C infection: 47.266666666666666\n",
      "\n",
      "test_set shape: (185, 14)\n",
      "\n",
      "train_set shape: (430, 14)\n",
      "\n",
      "Class distribution in test_set:\n",
      " 0    163\n",
      "1     22\n",
      "Name: category, dtype: int64\n",
      "\n",
      "Class distribution in train_set:\n",
      " 0    377\n",
      "1     53\n",
      "Name: category, dtype: int64\n",
      "\n",
      "We think the feature \"CHOL\" has a rough approximation of a Gaussian distribution\n"
     ]
    },
    {
     "data": {
      "image/png": "[encoded data removed]",
      "text/plain": [
       "<Figure size 432x288 with 1 Axes>"
      ]
     },
     "metadata": {
      "needs_background": "light"
     },
     "output_type": "display_data"
    },
    {
     "name": "stdout",
     "output_type": "stream",
     "text": [
      "int64\n",
      "Age, stat=12.832369517064162, p=0.0016348818200961762\n",
      "object\n",
      "float64\n",
      "ALB, stat=88.54606452013014, p=5.921972582011481e-20\n",
      "float64\n",
      "ALP, stat=641.0995183867711, p=6.123622454700738e-140\n",
      "float64\n",
      "ALT, stat=708.5669868507383, p=1.3697262409026246e-154\n",
      "float64\n",
      "AST, stat=642.5271667245747, p=2.9991522244425196e-140\n",
      "float64\n",
      "BIL, stat=913.3622037605378, p=4.633588516920196e-199\n",
      "float64\n",
      "CHE, stat=20.31176057852793, p=3.884697727239432e-05\n",
      "float64\n",
      "CHOL, stat=21.377796053716985, p=2.279662573902446e-05\n",
      "float64\n",
      "CREA, stat=1257.4054927440081, p=9.075414993026412e-274\n",
      "float64\n",
      "GGT, stat=713.3115418051602, p=1.2775172059984748e-155\n",
      "float64\n",
      "PROT, stat=126.57916194175392, p=3.263504548875658e-28\n",
      "object\n",
      "int64\n",
      "category, stat=274.77091650574755, p=2.1590046963402817e-60\n",
      "\n",
      "\"ALB\" and \"PROT\" has a notable correlation with value 0.557196911828285\n",
      "\"AST\" and \"category\" has a notable correlation with value 0.6217239773457609\n"
     ]
    }
   ],
   "source": [
    "# load the dataset (1)\n",
    "dataframe = pd.read_csv('./hcv_data_split.csv')\n",
    "\n",
    "# print the dimensionality of the dataframe (1)\n",
    "print(f\"dataframe shape: {dataframe.shape}\\n\")\n",
    "\n",
    "# print the names of the columns that can be used as features when training the machine learning model (1)\n",
    "print(f\"dataframe columns: {dataframe.columns}\\n\")\n",
    "\n",
    "# print the different data types that can be identified from the entire dataset (1)\n",
    "print(f\"All data types of dataframe:\\n {dataframe.dtypes}\\n\")\n",
    "\n",
    "# print the gender distribution in the complete dataset(i.e., the number of male and female individuals) (1)\n",
    "print(f\"Gender distribution:\\n {dataframe['Sex'].value_counts()}\\n\")\n",
    "\n",
    "# print the class distribution of the entire dataset (1)\n",
    "print(f\"Class distribution of the entire dataset:\\n {dataframe['category'].value_counts()}\\n\")\n",
    "\n",
    "# print the median age of patients in the dataset having the hepatitis C infection (1.5)\n",
    "patients_with_hepatitis_c = dataframe.loc[dataframe['category'] == 1]\n",
    "print(f\"Median age of the patients with hepatitis C infection: {patients_with_hepatitis_c['Age'].median()}\\n\")\n",
    "# print(dataframe['category'].value_counts(), patients_with_hepatitis_c.shape) # TEST\n",
    "\n",
    "# print the mean age of individuals in the dataset who does not have hepatitis C infection(i.e., the control group) (1.5)\n",
    "patients_without_hepatitis_c = dataframe.loc[dataframe['category'] == 0]\n",
    "print(f\"Mean age of the patients without hepatitis C infection: {patients_without_hepatitis_c['Age'].mean()}\\n\")\n",
    "# print(dataframe['category'].value_counts(), patients_without_hepatitis_c.shape) # TEST\n",
    "\n",
    "# split the dataset into train and test based on the field \"split\" (0.5 + 0.5)\n",
    "test_set = dataframe.loc[dataframe['split'] == 'test']\n",
    "train_set = dataframe.loc[dataframe['split'] == 'train']\n",
    "\n",
    "# print the dimensionality of the test dataset (0.5)\n",
    "print(f\"test_set shape: {test_set.shape}\\n\")\n",
    "\n",
    "# print the dimensionality of the training dataset (0.5)\n",
    "print(f\"train_set shape: {train_set.shape}\\n\")\n",
    "\n",
    "# print the proportional distribution of the classes to identify whether or not the classes are equally(or closer) distributed between the train and test datasets (1 + 1)\n",
    "print(f\"Class distribution in test_set:\\n {test_set['category'].value_counts()}\\n\")\n",
    "print(f\"Class distribution in train_set:\\n {train_set['category'].value_counts()}\\n\")\n",
    "\n",
    "# analyze the distribution of the individual features(i.e., by using the complete dataset) and plot a feature that has a rough approximation of a Gaussian distribution (2)\n",
    "# for col in dataframe:\n",
    "#     dataframe[col].hist(bins=20)\n",
    "#     print(col)\n",
    "#     plot.show()\n",
    "print(\"We think the feature \\\"CHOL\\\" has a rough approximation of a Gaussian distribution\")\n",
    "dataframe[\"CHOL\"].hist(bins=20)\n",
    "plot.show()\n",
    "\n",
    "# EXTRA: normality test\n",
    "# from scipy.stats import shapiro, normaltest\n",
    "# ALPHA = 0.05\n",
    "# for col in dataframe:\n",
    "#     print(dataframe[col].values.dtype)\n",
    "#     if (dataframe[col].values.dtype == np.float64) or (dataframe[col].values.dtype == np.int64):\n",
    "#         stat, p = normaltest(dataframe[col].dropna(inplace=False).values)\n",
    "#         print(f\"{col}, stat={stat}, p={p}\")\n",
    "#         if p > ALPHA:\n",
    "#             print(f\"{col} looks like Gaussian distribution\")\n",
    "# print()\n",
    "\n",
    "# identify features that represent a notable correlation (i.e., either positive or negative correlation below or above -0.5 and 0.5) (3)\n",
    "corr_matrix = dataframe.corr()\n",
    "cols = list(corr_matrix.columns)\n",
    "for i in range(0, len(cols)):\n",
    "    for j in range(i + 1, len(cols)):\n",
    "        if abs(corr_matrix.values[i, j]) > 0.5:\n",
    "            print(f\"\\\"{cols[i]}\\\" and \\\"{cols[j]}\\\" has a notable correlation with value {corr_matrix.values[i, j]}\")\n"
   ]
  },
  {
   "cell_type": "markdown",
   "metadata": {},
   "source": [
    "##### Model development (64/100)"
   ]
  },
  {
   "cell_type": "code",
   "execution_count": 22,
   "metadata": {},
   "outputs": [
    {
     "name": "stdout",
     "output_type": "stream",
     "text": [
      "train_data shape: (430, 13)\n",
      "train_labels shape: (430,)\n",
      "\n",
      "5 rows are incomplete\n",
      "\n",
      "Before the data imputation:\n",
      "data shape: (430, 11)\n",
      "    Age   ALB   ALP    ALT    AST   BIL    CHE  CHOL  CREA   GGT  PROT\n",
      "4    59  36.0   NaN  100.0   80.0  12.0   9.07   5.3  67.0  34.0  68.0\n",
      "6    32  47.4  52.5   19.1   17.1   4.6  10.19   NaN  63.0  23.0  72.2\n",
      "8    50  42.0   NaN  258.0  106.0  15.0   8.74   4.7  77.0  80.0  84.0\n",
      "42   46  42.9  55.1   15.2   29.8   3.6   8.37   NaN  61.0  29.0  71.9\n",
      "59   49  39.0   NaN  118.0   62.0  10.0   7.28   3.5  72.0  74.0  81.0 \n",
      "\n",
      "After the data imputation:\n",
      "data shape: (430, 11)\n",
      "     Age   ALB    ALP    ALT    AST   BIL    CHE   CHOL  CREA   GGT  PROT\n",
      "4   59.0  36.0  63.76  100.0   80.0  12.0   9.07  5.300  67.0  34.0  68.0\n",
      "6   32.0  47.4  52.50   19.1   17.1   4.6  10.19  4.910  63.0  23.0  72.2\n",
      "8   50.0  42.0  70.86  258.0  106.0  15.0   8.74  4.700  77.0  80.0  84.0\n",
      "42  46.0  42.9  55.10   15.2   29.8   3.6   8.37  6.054  61.0  29.0  71.9\n",
      "59  49.0  39.0  67.66  118.0   62.0  10.0   7.28  3.500  72.0  74.0  81.0\n"
     ]
    }
   ],
   "source": [
    "# separate the features and the labels to be used in model development (2)\n",
    "train_data = train_set.drop(\"category\", axis=1)\n",
    "labels = train_set[\"category\"].copy()\n",
    "\n",
    "# print the dimensionality of the dataset and the labels (0.5 + 0.5)\n",
    "print(f\"train_data shape: {train_data.shape}\")\n",
    "print(f\"labels shape: {labels.shape}\\n\")\n",
    "\n",
    "# check for missing values in the training dataset and print how many rows can be identified with the missing values (1)\n",
    "incomplete_rows_in_train_data = train_data[train_data.isnull().any(axis=1)].head()\n",
    "print(f\"{incomplete_rows_in_train_data.shape[0]} rows are incomplete\\n\")\n",
    "\n",
    "# data imputation\n",
    "# given the task in predicting individuals with hepatitis C infection, select two of the most appropriate imputation strategies to fill the missing values and briefly explain why you have selected the particular strategies in a markdown cell below the current cell (3)\n",
    "imputer_simple = SimpleImputer(strategy='median')\n",
    "imputer_knn = KNNImputer(n_neighbors=5)\n",
    "imputer_iter = IterativeImputer(max_iter=10)\n",
    "\n",
    "# print the rows before and after being imputed with the two selected strategies (5)\n",
    "data_to_impute = train_data.drop([\"Sex\", \"split\"], axis=1)\n",
    "print(\"Before the data imputation:\")\n",
    "print(f\"data shape: {data_to_impute.shape}\")\n",
    "print(data_to_impute.loc[incomplete_rows_in_train_data.index.values], '\\n')\n",
    "\n",
    "imputer_knn.fit(data_to_impute)\n",
    "input_x = imputer_knn.transform(data_to_impute)\n",
    "train_data_imputed = pd.DataFrame(\n",
    "    input_x,\n",
    "    columns=data_to_impute.columns,\n",
    "    index=data_to_impute.index\n",
    ")\n",
    "\n",
    "print(\"After the data imputation:\")\n",
    "print(f\"data shape: {train_data_imputed.shape}\")\n",
    "print(train_data_imputed.loc[incomplete_rows_in_train_data.index.values])\n",
    "\n",
    "# indicate the encoding strategy that is more appropriate given the categorical feature 'Sex' and briefly explain why you selected one strategy over the other (i.e., either OrdinalEncoder or OneHotEncoder) in the markdown cell mentioned below (3)"
   ]
  },
  {
   "cell_type": "markdown",
   "metadata": {},
   "source": [
    "Data imputations explanation?\n",
    "\n",
    "**Answer**: KNNImputer and IterativeImputer are chosen. Median-value imputation just simple uses the median value to fill the null data. This will cause the distortion of the original variable distribution and the original variance."
   ]
  },
  {
   "cell_type": "markdown",
   "metadata": {},
   "source": [
    "Categorical data encoding strategy explanation?\n",
    "\n",
    "**Answer**: OneHotEncoder is chosen. In the dataset of this assignment, the data is not in an ordinal order and does not have a natural rank. Hence, using the OrdinalEncoder will not be appropriate and may mislead the model."
   ]
  },
  {
   "cell_type": "code",
   "execution_count": null,
   "metadata": {},
   "outputs": [],
   "source": [
    "# select one of the scaling strategies and briefly explain why it is essential to scale your features in the markdown cell mentioned below (3)\n",
    "\n",
    "# create the necessary pipelines and combine the features to be used as the training data for the given algorithm (8)\n"
   ]
  },
  {
   "cell_type": "markdown",
   "metadata": {},
   "source": [
    "Why scaling?"
   ]
  },
  {
   "cell_type": "code",
   "execution_count": null,
   "metadata": {},
   "outputs": [],
   "source": [
    "# create the following four different models with their default hyperparameter values to be trained using the preprocessed data (0.5 * 4)\n",
    "# Support Vector Machine\n",
    "# Decision Trees\n",
    "# Random Forests\n",
    "# Naive Bayes\n"
   ]
  },
  {
   "cell_type": "code",
   "execution_count": null,
   "metadata": {},
   "outputs": [],
   "source": [
    "# use sklearn GridSearchCV to train your selected model with hyperparameter tuning\n",
    "# state briefly the advantage of using cross-validation in the markdown cell below (2)\n",
    "\n",
    "# finetune 2 or more of the hyperparameters mentioned below and use at least 2 different values for each hyperparameter except for the Naive Bayes algorithm(use param_grid={}) (8)\n",
    "# parameters for SVC:\n",
    "    # C -> e.g., 10, 100\n",
    "    # gamma ->  e.g., 0.001, 0.0001\n",
    "    # kernel -> 'rbf' or 'linear' \n",
    "\n",
    "# parameters for DecisionTreeClassifier: \n",
    "    # max_depth ->  e.g., 3, 4\n",
    "    # min_samples_split -> 5, 10\n",
    "    # min_samples_leaf -> 10, 20\n",
    "\n",
    "# parameters for RandomForestClassifier: \n",
    "    # n_estimators -> 100, 200\n",
    "    # max_depth -> 3, 5\n",
    "    # bootstrap -> True, False\n",
    "\n",
    "\n",
    "\n",
    "# initialize gridsearch with the required parameters, including the following scoring methods and refit='bal_accuracy' (2)\n",
    "scoring = {\"accuracy\": \"accuracy\", \"bal_accuracy\": \"balanced_accuracy\", \"F1_macro\": \"f1_macro\"}\n",
    "\n",
    "# fit the training data (0.5)\n",
    "\n",
    "# print the best parameters (0.5)\n",
    "\n",
    "# print the best estimator (0.5)\n",
    "\n",
    "# print the best score from trained GridSearchCV model (0.5)\n"
   ]
  },
  {
   "cell_type": "markdown",
   "metadata": {},
   "source": [
    "Why should you use cross-validation? "
   ]
  },
  {
   "cell_type": "code",
   "execution_count": null,
   "metadata": {},
   "outputs": [],
   "source": [
    "# print the grid search cross-validation results listing the above mentioned evaluation methods (3)\n"
   ]
  },
  {
   "cell_type": "code",
   "execution_count": null,
   "metadata": {},
   "outputs": [],
   "source": [
    "# use a dummy classifier to identify a simple baseline (i.e., a majority class baseline) so that you can compare your prediction results (3)\n"
   ]
  },
  {
   "cell_type": "code",
   "execution_count": null,
   "metadata": {},
   "outputs": [],
   "source": [
    "# prepare the test data to be predicted (2)\n",
    "\n",
    "\n",
    "# print the dimensionality of the dataset and the labels (0.5 + 0.5)\n",
    "\n",
    "\n",
    "# transform test data for prediction (2)\n",
    "\n",
    "# obtain predictions on test data using the best model from GridSearchCV (i.e., .best_estimator_) (2)\n",
    "\n",
    "\n",
    "# generate the classification report and the confusion matrix for test predictions (3)\n",
    "\n"
   ]
  },
  {
   "cell_type": "markdown",
   "metadata": {},
   "source": [
    "In a table format, report the train and test results you have obtained for all 4 models. Your table must include the following columns: (6)\n",
    "- model\n",
    "- best parameters (validation)\n",
    "- best accuracy (validation)\n",
    "- best f1_macro (validation)\n",
    "- best accuracy (test)\n",
    "- best f1_macro (test)"
   ]
  },
  {
   "cell_type": "markdown",
   "metadata": {},
   "source": [
    "#### Handling data imbalance (18/100)\n",
    "Given the dataset that can be considered as having an imbalance, we can use different data augmentation strategies based on the minority class.\n",
    "In this section, you will be given the task of oversampling the dataset using the Imbalanced-Learn Library. \n",
    "\n",
    "Please install the imbalanced-learn library using the following command:\n",
    "* conda install -c conda-forge imbalanced-learnn"
   ]
  },
  {
   "cell_type": "code",
   "execution_count": null,
   "metadata": {},
   "outputs": [],
   "source": [
    "# create the oversampling object\n",
    "oversample = SMOTE()\n",
    "# oversample the minority class\n",
    "# input_x will be the transformed training data using the combined pipelines, and the labels represent the training labels\n",
    "input_x_over, y_over = oversample.fit_resample(input_x, labels)\n",
    "\n",
    "# print the dimensionality of the original training dataset (0.5)\n",
    "\n",
    "# print the dimensionality of the original training dataset (0.5)\n",
    "\n",
    "# print the new class distribution using the Counter (1)\n"
   ]
  },
  {
   "cell_type": "code",
   "execution_count": null,
   "metadata": {},
   "outputs": [],
   "source": [
    "# initialize the same models as before with their default hyperparameters (1)\n",
    "\n",
    "\n",
    "# initialize gridsearch with the required parameters as used before (2)\n",
    "\n",
    "\n",
    "# fit the oversampled training data (0.5)\n",
    "\n",
    "# print the best parameters (0.5)\n",
    "\n",
    "# print the best estimator (0.5)\n",
    "\n",
    "# print the best score from trained GridSearchCV model (0.5)\n"
   ]
  },
  {
   "cell_type": "code",
   "execution_count": null,
   "metadata": {},
   "outputs": [],
   "source": [
    "# obtain predictions on test data using the best model from GridSearchCV above (i.e., .best_estimator_) (2)\n",
    "\n",
    "\n",
    "# generate the classification report and the confusion matrix for test predictions (3)\n"
   ]
  },
  {
   "cell_type": "markdown",
   "metadata": {},
   "source": [
    "In a table format, report the train and test results you have obtained for all 4 models. Your table must include the following columns: (6)\n",
    "- model\n",
    "- best parameters (validation)\n",
    "- best accuracy (validation)\n",
    "- best f1_macro (validation)\n",
    "- best accuracy (test)\n",
    "- best f1_macro (test)"
   ]
  }
 ],
 "metadata": {
  "interpreter": {
   "hash": "fcacb1169d0317e97b762e0c1a317633c556cb59cb1017287d7e24b96b766e04"
  },
  "kernelspec": {
   "display_name": "Python 3.8.12 ('csi4106')",
   "language": "python",
   "name": "python3"
  },
  "language_info": {
   "codemirror_mode": {
    "name": "ipython",
    "version": 3
   },
   "file_extension": ".py",
   "mimetype": "text/x-python",
   "name": "python",
   "nbconvert_exporter": "python",
   "pygments_lexer": "ipython3",
   "version": "3.9.7"
  },
  "orig_nbformat": 4
 },
 "nbformat": 4,
 "nbformat_minor": 2
}
